{
 "cells": [
  {
   "cell_type": "markdown",
   "metadata": {},
   "source": [
    "# API Scavenger Game"
   ]
  },
  {
   "cell_type": "markdown",
   "metadata": {},
   "source": [
    "## Challenge 1: Fork Languages\n",
    "\n",
    "You will find out how many programming languages are used among all the forks created from the main lab repo of your bootcamp."
   ]
  },
  {
   "cell_type": "code",
   "execution_count": 1,
   "metadata": {},
   "outputs": [],
   "source": [
    "# import libraries here\n",
    "import os\n",
    "import requests\n",
    "import pandas as pd\n",
    "from dotenv import load_dotenv"
   ]
  },
  {
   "cell_type": "code",
   "execution_count": 2,
   "metadata": {},
   "outputs": [
    {
     "data": {
      "text/plain": [
       "True"
      ]
     },
     "execution_count": 2,
     "metadata": {},
     "output_type": "execute_result"
    }
   ],
   "source": [
    "load_dotenv()"
   ]
  },
  {
   "cell_type": "code",
   "execution_count": 3,
   "metadata": {},
   "outputs": [],
   "source": [
    "API_TOKEN = os.getenv('API_TOKEN')"
   ]
  },
  {
   "cell_type": "code",
   "execution_count": 4,
   "metadata": {},
   "outputs": [],
   "source": [
    "base_url = 'https://api.github.com/'"
   ]
  },
  {
   "cell_type": "code",
   "execution_count": 5,
   "metadata": {},
   "outputs": [],
   "source": [
    "owner = 'ironhack-datalabs'\n",
    "repo = 'mad-oct-2018'\n",
    "# OR\n",
    "# repo = 'datamex0320'"
   ]
  },
  {
   "cell_type": "code",
   "execution_count": 6,
   "metadata": {},
   "outputs": [],
   "source": [
    "headers = {'Authorization': f'token {API_TOKEN}'}"
   ]
  },
  {
   "cell_type": "markdown",
   "metadata": {},
   "source": [
    "Assuming the main lab repo is `ironhack-datalabs/madrid-oct-2018`, you will:"
   ]
  },
  {
   "cell_type": "markdown",
   "metadata": {},
   "source": [
    "### 1. Obtain the full list of forks created from the main lab repo via Github API."
   ]
  },
  {
   "cell_type": "markdown",
   "metadata": {},
   "source": [
    "To list forks, we can use the GET method. As explained in the GitHub API documentation, we need to make the request to: GET /repos/:owner/:repo/forks."
   ]
  },
  {
   "cell_type": "code",
   "execution_count": null,
   "metadata": {},
   "outputs": [],
   "source": [
    "# your code here"
   ]
  },
  {
   "cell_type": "code",
   "execution_count": 7,
   "metadata": {},
   "outputs": [
    {
     "data": {
      "text/plain": [
       "'https://api.github.com/repos/ironhack-datalabs/mad-oct-2018/forks'"
      ]
     },
     "execution_count": 7,
     "metadata": {},
     "output_type": "execute_result"
    }
   ],
   "source": [
    "url = base_url + f'repos/{owner}/{repo}/forks'\n",
    "url"
   ]
  },
  {
   "cell_type": "code",
   "execution_count": 8,
   "metadata": {},
   "outputs": [],
   "source": [
    "response = requests.get(url, headers=headers)\n",
    "results = response.json()"
   ]
  },
  {
   "cell_type": "markdown",
   "metadata": {},
   "source": [
    "### 2. Loop the JSON response to find out the language attribute of each fork. Use an array to store the language attributes of each fork."
   ]
  },
  {
   "cell_type": "markdown",
   "metadata": {},
   "source": [
    "**Hint: Each language should appear only once in your array.**\n",
    "\n",
    "Print the language array. It should be something like: [\"Jupyter Notebook\", \"HTML\"]"
   ]
  },
  {
   "cell_type": "code",
   "execution_count": null,
   "metadata": {},
   "outputs": [],
   "source": [
    "# your code here"
   ]
  },
  {
   "cell_type": "code",
   "execution_count": 9,
   "metadata": {},
   "outputs": [
    {
     "data": {
      "text/plain": [
       "['Jupyter Notebook', 'HTML']"
      ]
     },
     "execution_count": 9,
     "metadata": {},
     "output_type": "execute_result"
    }
   ],
   "source": [
    "languages = []\n",
    "\n",
    "for item in results:\n",
    "    lang = item['language']\n",
    "    if (lang not in languages) and (lang != None):\n",
    "        languages.append(lang)\n",
    "\n",
    "languages"
   ]
  },
  {
   "cell_type": "markdown",
   "metadata": {},
   "source": [
    "## Challenge 2: Count Commits\n",
    "Count how many commits were made in the month of october of 2018.\n",
    "#### 1. Obtain all the commits made in October 2018 via API, which is a JSON array that contains multiple commit objects."
   ]
  },
  {
   "cell_type": "code",
   "execution_count": null,
   "metadata": {},
   "outputs": [],
   "source": [
    "# your code here"
   ]
  },
  {
   "cell_type": "code",
   "execution_count": 10,
   "metadata": {},
   "outputs": [
    {
     "data": {
      "text/plain": [
       "'https://api.github.com/repos/ironhack-datalabs/mad-oct-2018/commits'"
      ]
     },
     "execution_count": 10,
     "metadata": {},
     "output_type": "execute_result"
    }
   ],
   "source": [
    "url = base_url + f'repos/{owner}/{repo}/commits'\n",
    "url"
   ]
  },
  {
   "cell_type": "code",
   "execution_count": 11,
   "metadata": {},
   "outputs": [],
   "source": [
    "params = {'since':'2018-10-01', 'until':'2018-10-31'}\n",
    "response = requests.get(url, params=params, headers=headers)\n",
    "results = response.json()"
   ]
  },
  {
   "cell_type": "markdown",
   "metadata": {},
   "source": [
    "#### 2. Count how many commit objects are contained in the array."
   ]
  },
  {
   "cell_type": "code",
   "execution_count": null,
   "metadata": {},
   "outputs": [],
   "source": [
    "# your code here"
   ]
  },
  {
   "cell_type": "code",
   "execution_count": 12,
   "metadata": {},
   "outputs": [
    {
     "data": {
      "text/plain": [
       "30"
      ]
     },
     "execution_count": 12,
     "metadata": {},
     "output_type": "execute_result"
    }
   ],
   "source": [
    "len(results) # number of commits"
   ]
  },
  {
   "cell_type": "code",
   "execution_count": 13,
   "metadata": {},
   "outputs": [],
   "source": [
    "data = []\n",
    "\n",
    "for item in results:\n",
    "    commit_date = item['commit']['committer']['date']\n",
    "    commit_message = item['commit']['message']\n",
    "    data.append([commit_date, commit_message])"
   ]
  },
  {
   "cell_type": "code",
   "execution_count": 14,
   "metadata": {},
   "outputs": [
    {
     "data": {
      "text/html": [
       "<div>\n",
       "<style scoped>\n",
       "    .dataframe tbody tr th:only-of-type {\n",
       "        vertical-align: middle;\n",
       "    }\n",
       "\n",
       "    .dataframe tbody tr th {\n",
       "        vertical-align: top;\n",
       "    }\n",
       "\n",
       "    .dataframe thead th {\n",
       "        text-align: right;\n",
       "    }\n",
       "</style>\n",
       "<table border=\"1\" class=\"dataframe\">\n",
       "  <thead>\n",
       "    <tr style=\"text-align: right;\">\n",
       "      <th></th>\n",
       "      <th>Date</th>\n",
       "      <th>Message</th>\n",
       "    </tr>\n",
       "  </thead>\n",
       "  <tbody>\n",
       "    <tr>\n",
       "      <th>0</th>\n",
       "      <td>2018-10-31T14:12:03Z</td>\n",
       "      <td>Add files via upload</td>\n",
       "    </tr>\n",
       "    <tr>\n",
       "      <th>1</th>\n",
       "      <td>2018-10-31T14:09:56Z</td>\n",
       "      <td>Delete test1.py</td>\n",
       "    </tr>\n",
       "    <tr>\n",
       "      <th>2</th>\n",
       "      <td>2018-10-31T14:09:28Z</td>\n",
       "      <td>Add files via upload</td>\n",
       "    </tr>\n",
       "    <tr>\n",
       "      <th>3</th>\n",
       "      <td>2018-10-31T14:08:34Z</td>\n",
       "      <td>Create test1.py</td>\n",
       "    </tr>\n",
       "    <tr>\n",
       "      <th>4</th>\n",
       "      <td>2018-10-31T14:07:32Z</td>\n",
       "      <td>Delete Lab-Subsetting and Descriptive Stats.py</td>\n",
       "    </tr>\n",
       "    <tr>\n",
       "      <th>5</th>\n",
       "      <td>2018-10-31T14:06:27Z</td>\n",
       "      <td>Rename Lab-Subsetting and Descriptive Stats.md...</td>\n",
       "    </tr>\n",
       "    <tr>\n",
       "      <th>6</th>\n",
       "      <td>2018-10-31T14:06:00Z</td>\n",
       "      <td>Create Lab-Subsetting and Descriptive Stats.md...</td>\n",
       "    </tr>\n",
       "    <tr>\n",
       "      <th>7</th>\n",
       "      <td>2018-10-31T14:03:47Z</td>\n",
       "      <td>Delete Lab-Subsetting and Descriptive Stats</td>\n",
       "    </tr>\n",
       "    <tr>\n",
       "      <th>8</th>\n",
       "      <td>2018-10-31T14:00:01Z</td>\n",
       "      <td>Create Lab-Subsetting and Descriptive Stats\\n\\...</td>\n",
       "    </tr>\n",
       "    <tr>\n",
       "      <th>9</th>\n",
       "      <td>2018-10-30T22:51:52Z</td>\n",
       "      <td>folder update</td>\n",
       "    </tr>\n",
       "    <tr>\n",
       "      <th>10</th>\n",
       "      <td>2018-10-30T22:45:48Z</td>\n",
       "      <td>lab web scraping solution</td>\n",
       "    </tr>\n",
       "    <tr>\n",
       "      <th>11</th>\n",
       "      <td>2018-10-30T22:25:52Z</td>\n",
       "      <td>lab web scraping</td>\n",
       "    </tr>\n",
       "    <tr>\n",
       "      <th>12</th>\n",
       "      <td>2018-10-30T05:06:04Z</td>\n",
       "      <td>minor improvement of scavenger game</td>\n",
       "    </tr>\n",
       "    <tr>\n",
       "      <th>13</th>\n",
       "      <td>2018-10-30T04:54:28Z</td>\n",
       "      <td>finished scavenger game lab</td>\n",
       "    </tr>\n",
       "    <tr>\n",
       "      <th>14</th>\n",
       "      <td>2018-10-30T02:19:11Z</td>\n",
       "      <td>rename scavenger files</td>\n",
       "    </tr>\n",
       "    <tr>\n",
       "      <th>15</th>\n",
       "      <td>2018-10-30T02:15:53Z</td>\n",
       "      <td>Merge branch 'master' of https://github.com/ir...</td>\n",
       "    </tr>\n",
       "    <tr>\n",
       "      <th>16</th>\n",
       "      <td>2018-10-30T02:15:49Z</td>\n",
       "      <td>rename scavenger file</td>\n",
       "    </tr>\n",
       "    <tr>\n",
       "      <th>17</th>\n",
       "      <td>2018-10-30T02:15:02Z</td>\n",
       "      <td>adding scavenger hunt files</td>\n",
       "    </tr>\n",
       "    <tr>\n",
       "      <th>18</th>\n",
       "      <td>2018-10-29T21:57:34Z</td>\n",
       "      <td>Finishing draft of final project demo</td>\n",
       "    </tr>\n",
       "    <tr>\n",
       "      <th>19</th>\n",
       "      <td>2018-10-29T18:54:36Z</td>\n",
       "      <td>Adding narrative and additional visualizations...</td>\n",
       "    </tr>\n",
       "    <tr>\n",
       "      <th>20</th>\n",
       "      <td>2018-10-28T17:10:38Z</td>\n",
       "      <td>data cleaning&amp;errhandl&amp;listcomp lab solutions</td>\n",
       "    </tr>\n",
       "    <tr>\n",
       "      <th>21</th>\n",
       "      <td>2018-10-26T23:10:01Z</td>\n",
       "      <td>Adding exploration charts from Tableau</td>\n",
       "    </tr>\n",
       "    <tr>\n",
       "      <th>22</th>\n",
       "      <td>2018-10-26T17:26:31Z</td>\n",
       "      <td>Finishing data wrangling and storage and start...</td>\n",
       "    </tr>\n",
       "    <tr>\n",
       "      <th>23</th>\n",
       "      <td>2018-10-26T17:25:54Z</td>\n",
       "      <td>Merge branch 'master' of https://github.com/ir...</td>\n",
       "    </tr>\n",
       "    <tr>\n",
       "      <th>24</th>\n",
       "      <td>2018-10-26T17:25:51Z</td>\n",
       "      <td>Adding Project Ideas section under Day 1</td>\n",
       "    </tr>\n",
       "    <tr>\n",
       "      <th>25</th>\n",
       "      <td>2018-10-26T02:35:09Z</td>\n",
       "      <td>functional programming lab solutions</td>\n",
       "    </tr>\n",
       "    <tr>\n",
       "      <th>26</th>\n",
       "      <td>2018-10-26T02:34:27Z</td>\n",
       "      <td>Merge branch 'master' into lab-solutions</td>\n",
       "    </tr>\n",
       "    <tr>\n",
       "      <th>27</th>\n",
       "      <td>2018-10-26T02:34:05Z</td>\n",
       "      <td>minor improvements functional programming</td>\n",
       "    </tr>\n",
       "    <tr>\n",
       "      <th>28</th>\n",
       "      <td>2018-10-26T02:18:59Z</td>\n",
       "      <td>update lab index</td>\n",
       "    </tr>\n",
       "    <tr>\n",
       "      <th>29</th>\n",
       "      <td>2018-10-26T02:16:15Z</td>\n",
       "      <td>lab functional programming</td>\n",
       "    </tr>\n",
       "  </tbody>\n",
       "</table>\n",
       "</div>"
      ],
      "text/plain": [
       "                    Date                                            Message\n",
       "0   2018-10-31T14:12:03Z                               Add files via upload\n",
       "1   2018-10-31T14:09:56Z                                    Delete test1.py\n",
       "2   2018-10-31T14:09:28Z                               Add files via upload\n",
       "3   2018-10-31T14:08:34Z                                    Create test1.py\n",
       "4   2018-10-31T14:07:32Z     Delete Lab-Subsetting and Descriptive Stats.py\n",
       "5   2018-10-31T14:06:27Z  Rename Lab-Subsetting and Descriptive Stats.md...\n",
       "6   2018-10-31T14:06:00Z  Create Lab-Subsetting and Descriptive Stats.md...\n",
       "7   2018-10-31T14:03:47Z        Delete Lab-Subsetting and Descriptive Stats\n",
       "8   2018-10-31T14:00:01Z  Create Lab-Subsetting and Descriptive Stats\\n\\...\n",
       "9   2018-10-30T22:51:52Z                                      folder update\n",
       "10  2018-10-30T22:45:48Z                          lab web scraping solution\n",
       "11  2018-10-30T22:25:52Z                                   lab web scraping\n",
       "12  2018-10-30T05:06:04Z                minor improvement of scavenger game\n",
       "13  2018-10-30T04:54:28Z                        finished scavenger game lab\n",
       "14  2018-10-30T02:19:11Z                             rename scavenger files\n",
       "15  2018-10-30T02:15:53Z  Merge branch 'master' of https://github.com/ir...\n",
       "16  2018-10-30T02:15:49Z                              rename scavenger file\n",
       "17  2018-10-30T02:15:02Z                        adding scavenger hunt files\n",
       "18  2018-10-29T21:57:34Z              Finishing draft of final project demo\n",
       "19  2018-10-29T18:54:36Z  Adding narrative and additional visualizations...\n",
       "20  2018-10-28T17:10:38Z      data cleaning&errhandl&listcomp lab solutions\n",
       "21  2018-10-26T23:10:01Z             Adding exploration charts from Tableau\n",
       "22  2018-10-26T17:26:31Z  Finishing data wrangling and storage and start...\n",
       "23  2018-10-26T17:25:54Z  Merge branch 'master' of https://github.com/ir...\n",
       "24  2018-10-26T17:25:51Z           Adding Project Ideas section under Day 1\n",
       "25  2018-10-26T02:35:09Z               functional programming lab solutions\n",
       "26  2018-10-26T02:34:27Z           Merge branch 'master' into lab-solutions\n",
       "27  2018-10-26T02:34:05Z          minor improvements functional programming\n",
       "28  2018-10-26T02:18:59Z                                   update lab index\n",
       "29  2018-10-26T02:16:15Z                         lab functional programming"
      ]
     },
     "execution_count": 14,
     "metadata": {},
     "output_type": "execute_result"
    }
   ],
   "source": [
    "df = pd.DataFrame(data, columns=['Date', 'Message'])\n",
    "df"
   ]
  },
  {
   "cell_type": "markdown",
   "metadata": {},
   "source": [
    "## Challenge 3: Hidden Cold Joke\n",
    "\n",
    "Using Python, call Github API to find out the cold joke contained in the 24 secret files in the following repo:\n",
    "\n",
    "https://github.com/ironhack-datalabs/scavenger\n",
    "\n",
    "The filenames of the secret files contain .scavengerhunt and they are scattered in different directories of this repo. The secret files are named from .0001.scavengerhunt to .0024.scavengerhunt. They are scattered randomly throughout this repo. You need to search for these files by calling the Github API, not searching the local files on your computer.\n",
    "\n",
    "#### 1. Find the secret files."
   ]
  },
  {
   "cell_type": "code",
   "execution_count": null,
   "metadata": {},
   "outputs": [],
   "source": [
    "# your code here"
   ]
  },
  {
   "cell_type": "code",
   "execution_count": 15,
   "metadata": {},
   "outputs": [
    {
     "data": {
      "text/plain": [
       "'https://api.github.com/repos/ironhack-datalabs/scavenger/contents'"
      ]
     },
     "execution_count": 15,
     "metadata": {},
     "output_type": "execute_result"
    }
   ],
   "source": [
    "repo = 'scavenger'\n",
    "url = base_url + f'repos/{owner}/{repo}/contents'\n",
    "url"
   ]
  },
  {
   "cell_type": "code",
   "execution_count": 16,
   "metadata": {},
   "outputs": [
    {
     "data": {
      "text/plain": [
       "200"
      ]
     },
     "execution_count": 16,
     "metadata": {},
     "output_type": "execute_result"
    }
   ],
   "source": [
    "response = requests.get(url, headers=headers)\n",
    "response.status_code"
   ]
  },
  {
   "cell_type": "code",
   "execution_count": 17,
   "metadata": {},
   "outputs": [],
   "source": [
    "results = response.json()"
   ]
  },
  {
   "cell_type": "code",
   "execution_count": 18,
   "metadata": {},
   "outputs": [
    {
     "data": {
      "text/plain": [
       "['15024',\n",
       " '15534',\n",
       " '17020',\n",
       " '30351',\n",
       " '40303',\n",
       " '44639',\n",
       " '45525',\n",
       " '47222',\n",
       " '47830',\n",
       " '49418',\n",
       " '50896',\n",
       " '55417',\n",
       " '55685',\n",
       " '60224',\n",
       " '64880',\n",
       " '66032',\n",
       " '68848',\n",
       " '70751',\n",
       " '70985',\n",
       " '88596',\n",
       " '89046',\n",
       " '89338',\n",
       " '91701',\n",
       " '97881',\n",
       " '98750']"
      ]
     },
     "execution_count": 18,
     "metadata": {},
     "output_type": "execute_result"
    }
   ],
   "source": [
    "paths = []\n",
    "\n",
    "for item in results:\n",
    "    if item['type'] == 'dir':\n",
    "        paths.append(item['path'])\n",
    "\n",
    "paths"
   ]
  },
  {
   "cell_type": "code",
   "execution_count": 19,
   "metadata": {},
   "outputs": [
    {
     "data": {
      "text/plain": [
       "[['.0006.scavengerhunt', '15024/.0006.scavengerhunt'],\n",
       " ['.0008.scavengerhunt', '15534/.0008.scavengerhunt'],\n",
       " ['.0012.scavengerhunt', '15534/.0012.scavengerhunt'],\n",
       " ['.0007.scavengerhunt', '17020/.0007.scavengerhunt'],\n",
       " ['.0021.scavengerhunt', '30351/.0021.scavengerhunt'],\n",
       " ['.0022.scavengerhunt', '40303/.0022.scavengerhunt'],\n",
       " ['.0005.scavengerhunt', '44639/.0005.scavengerhunt'],\n",
       " ['.0018.scavengerhunt', '45525/.0018.scavengerhunt'],\n",
       " ['.0016.scavengerhunt', '47222/.0016.scavengerhunt'],\n",
       " ['.0024.scavengerhunt', '47222/.0024.scavengerhunt'],\n",
       " ['.0010.scavengerhunt', '47830/.0010.scavengerhunt'],\n",
       " ['.0014.scavengerhunt', '49418/.0014.scavengerhunt'],\n",
       " ['.0011.scavengerhunt', '50896/.0011.scavengerhunt'],\n",
       " ['.0023.scavengerhunt', '55417/.0023.scavengerhunt'],\n",
       " ['.0020.scavengerhunt', '55685/.0020.scavengerhunt'],\n",
       " ['.0003.scavengerhunt', '60224/.0003.scavengerhunt'],\n",
       " ['.0004.scavengerhunt', '68848/.0004.scavengerhunt'],\n",
       " ['.0019.scavengerhunt', '70751/.0019.scavengerhunt'],\n",
       " ['.0017.scavengerhunt', '70985/.0017.scavengerhunt'],\n",
       " ['.0002.scavengerhunt', '88596/.0002.scavengerhunt'],\n",
       " ['.0013.scavengerhunt', '89338/.0013.scavengerhunt'],\n",
       " ['.0015.scavengerhunt', '91701/.0015.scavengerhunt'],\n",
       " ['.0009.scavengerhunt', '97881/.0009.scavengerhunt'],\n",
       " ['.0001.scavengerhunt', '98750/.0001.scavengerhunt']]"
      ]
     },
     "execution_count": 19,
     "metadata": {},
     "output_type": "execute_result"
    }
   ],
   "source": [
    "data = []\n",
    "\n",
    "for each_path in paths:\n",
    "    items = requests.get(f'{url}/{each_path}', headers=headers).json()\n",
    "    for each_item in items:\n",
    "        item_type = each_item['type']\n",
    "        item_name = each_item['name']\n",
    "        if (item_type == 'file') and ('scavengerhunt' in item_name):\n",
    "            item_path = each_item['path']\n",
    "            data.append([item_name, item_path])\n",
    "\n",
    "data"
   ]
  },
  {
   "cell_type": "markdown",
   "metadata": {},
   "source": [
    "#### 2.  Sort the filenames ascendingly."
   ]
  },
  {
   "cell_type": "code",
   "execution_count": null,
   "metadata": {},
   "outputs": [],
   "source": [
    "# your code here"
   ]
  },
  {
   "cell_type": "code",
   "execution_count": 20,
   "metadata": {},
   "outputs": [
    {
     "data": {
      "text/plain": [
       "[['.0001.scavengerhunt', '98750/.0001.scavengerhunt'],\n",
       " ['.0002.scavengerhunt', '88596/.0002.scavengerhunt'],\n",
       " ['.0003.scavengerhunt', '60224/.0003.scavengerhunt'],\n",
       " ['.0004.scavengerhunt', '68848/.0004.scavengerhunt'],\n",
       " ['.0005.scavengerhunt', '44639/.0005.scavengerhunt'],\n",
       " ['.0006.scavengerhunt', '15024/.0006.scavengerhunt'],\n",
       " ['.0007.scavengerhunt', '17020/.0007.scavengerhunt'],\n",
       " ['.0008.scavengerhunt', '15534/.0008.scavengerhunt'],\n",
       " ['.0009.scavengerhunt', '97881/.0009.scavengerhunt'],\n",
       " ['.0010.scavengerhunt', '47830/.0010.scavengerhunt'],\n",
       " ['.0011.scavengerhunt', '50896/.0011.scavengerhunt'],\n",
       " ['.0012.scavengerhunt', '15534/.0012.scavengerhunt'],\n",
       " ['.0013.scavengerhunt', '89338/.0013.scavengerhunt'],\n",
       " ['.0014.scavengerhunt', '49418/.0014.scavengerhunt'],\n",
       " ['.0015.scavengerhunt', '91701/.0015.scavengerhunt'],\n",
       " ['.0016.scavengerhunt', '47222/.0016.scavengerhunt'],\n",
       " ['.0017.scavengerhunt', '70985/.0017.scavengerhunt'],\n",
       " ['.0018.scavengerhunt', '45525/.0018.scavengerhunt'],\n",
       " ['.0019.scavengerhunt', '70751/.0019.scavengerhunt'],\n",
       " ['.0020.scavengerhunt', '55685/.0020.scavengerhunt'],\n",
       " ['.0021.scavengerhunt', '30351/.0021.scavengerhunt'],\n",
       " ['.0022.scavengerhunt', '40303/.0022.scavengerhunt'],\n",
       " ['.0023.scavengerhunt', '55417/.0023.scavengerhunt'],\n",
       " ['.0024.scavengerhunt', '47222/.0024.scavengerhunt']]"
      ]
     },
     "execution_count": 20,
     "metadata": {},
     "output_type": "execute_result"
    }
   ],
   "source": [
    "data = sorted(data, key=lambda x: x[0])\n",
    "data"
   ]
  },
  {
   "cell_type": "markdown",
   "metadata": {},
   "source": [
    "#### 3. Read the content of each secret files into an array of strings.\n",
    "Since the response is encoded, you will need to send the following information in the header of your request:\n",
    "````python\n",
    "headers = {'Accept': 'application/vnd.github.v3.raw'}\n",
    "````"
   ]
  },
  {
   "cell_type": "code",
   "execution_count": null,
   "metadata": {},
   "outputs": [],
   "source": [
    "# your code here"
   ]
  },
  {
   "cell_type": "code",
   "execution_count": 21,
   "metadata": {},
   "outputs": [],
   "source": [
    "headers = {\n",
    "    'Accept': 'application/vnd.github.v3.raw',\n",
    "    'Authorization': f'token {API_TOKEN}'\n",
    "}"
   ]
  },
  {
   "cell_type": "code",
   "execution_count": 22,
   "metadata": {},
   "outputs": [],
   "source": [
    "file_paths = [item[1] for item in data]"
   ]
  },
  {
   "cell_type": "code",
   "execution_count": 23,
   "metadata": {},
   "outputs": [
    {
     "data": {
      "text/plain": [
       "['In',\n",
       " 'data',\n",
       " 'science,',\n",
       " '80',\n",
       " 'percent',\n",
       " 'of',\n",
       " 'time',\n",
       " 'spent',\n",
       " 'is',\n",
       " 'preparing',\n",
       " 'data,',\n",
       " '20',\n",
       " 'percent',\n",
       " 'of',\n",
       " 'time',\n",
       " 'is',\n",
       " 'spent',\n",
       " 'complaining',\n",
       " 'about',\n",
       " 'the',\n",
       " 'need',\n",
       " 'to',\n",
       " 'prepare',\n",
       " 'data.']"
      ]
     },
     "execution_count": 23,
     "metadata": {},
     "output_type": "execute_result"
    }
   ],
   "source": [
    "words = []\n",
    "\n",
    "for each_path in file_paths:\n",
    "    each_word = requests.get(f'{url}/{each_path}', headers=headers).text.strip()\n",
    "    words.append(each_word)\n",
    "\n",
    "words"
   ]
  },
  {
   "cell_type": "markdown",
   "metadata": {},
   "source": [
    "#### 4. Concatenate the strings in the array separating each two with a whitespace."
   ]
  },
  {
   "cell_type": "code",
   "execution_count": 24,
   "metadata": {},
   "outputs": [],
   "source": [
    "# your code here\n",
    "hidden_joke = ' '.join(words)"
   ]
  },
  {
   "cell_type": "markdown",
   "metadata": {},
   "source": [
    "#### 5. Print out the joke."
   ]
  },
  {
   "cell_type": "code",
   "execution_count": 25,
   "metadata": {},
   "outputs": [
    {
     "name": "stdout",
     "output_type": "stream",
     "text": [
      "In data science, 80 percent of time spent is preparing data, 20 percent of time is spent complaining about the need to prepare data.\n"
     ]
    }
   ],
   "source": [
    "# your code here\n",
    "print(hidden_joke)"
   ]
  },
  {
   "cell_type": "code",
   "execution_count": null,
   "metadata": {},
   "outputs": [],
   "source": []
  }
 ],
 "metadata": {
  "kernelspec": {
   "display_name": "Python 3",
   "language": "python",
   "name": "python3"
  },
  "language_info": {
   "codemirror_mode": {
    "name": "ipython",
    "version": 3
   },
   "file_extension": ".py",
   "mimetype": "text/x-python",
   "name": "python",
   "nbconvert_exporter": "python",
   "pygments_lexer": "ipython3",
   "version": "3.8.3"
  }
 },
 "nbformat": 4,
 "nbformat_minor": 2
}
